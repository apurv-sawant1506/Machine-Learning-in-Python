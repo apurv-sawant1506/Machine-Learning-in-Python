{
 "cells": [
  {
   "cell_type": "code",
   "execution_count": 1,
   "metadata": {},
   "outputs": [],
   "source": [
    "import pandas as pd\n",
    "import numpy as np\n",
    "import matplotlib.pyplot as plt\n",
    "from sklearn import preprocessing\n",
    "from sklearn.model_selection import train_test_split\n",
    "from sklearn import metrics"
   ]
  },
  {
   "cell_type": "code",
   "execution_count": 2,
   "metadata": {},
   "outputs": [],
   "source": [
    "df=pd.read_csv('../datasets/drug200.csv')"
   ]
  },
  {
   "cell_type": "code",
   "execution_count": 3,
   "metadata": {},
   "outputs": [
    {
     "data": {
      "text/html": [
       "<div>\n",
       "<style scoped>\n",
       "    .dataframe tbody tr th:only-of-type {\n",
       "        vertical-align: middle;\n",
       "    }\n",
       "\n",
       "    .dataframe tbody tr th {\n",
       "        vertical-align: top;\n",
       "    }\n",
       "\n",
       "    .dataframe thead th {\n",
       "        text-align: right;\n",
       "    }\n",
       "</style>\n",
       "<table border=\"1\" class=\"dataframe\">\n",
       "  <thead>\n",
       "    <tr style=\"text-align: right;\">\n",
       "      <th></th>\n",
       "      <th>Age</th>\n",
       "      <th>Sex</th>\n",
       "      <th>BP</th>\n",
       "      <th>Cholesterol</th>\n",
       "      <th>Na_to_K</th>\n",
       "      <th>Drug</th>\n",
       "    </tr>\n",
       "  </thead>\n",
       "  <tbody>\n",
       "    <tr>\n",
       "      <th>0</th>\n",
       "      <td>23</td>\n",
       "      <td>F</td>\n",
       "      <td>HIGH</td>\n",
       "      <td>HIGH</td>\n",
       "      <td>25.355</td>\n",
       "      <td>drugY</td>\n",
       "    </tr>\n",
       "    <tr>\n",
       "      <th>1</th>\n",
       "      <td>47</td>\n",
       "      <td>M</td>\n",
       "      <td>LOW</td>\n",
       "      <td>HIGH</td>\n",
       "      <td>13.093</td>\n",
       "      <td>drugC</td>\n",
       "    </tr>\n",
       "    <tr>\n",
       "      <th>2</th>\n",
       "      <td>47</td>\n",
       "      <td>M</td>\n",
       "      <td>LOW</td>\n",
       "      <td>HIGH</td>\n",
       "      <td>10.114</td>\n",
       "      <td>drugC</td>\n",
       "    </tr>\n",
       "    <tr>\n",
       "      <th>3</th>\n",
       "      <td>28</td>\n",
       "      <td>F</td>\n",
       "      <td>NORMAL</td>\n",
       "      <td>HIGH</td>\n",
       "      <td>7.798</td>\n",
       "      <td>drugX</td>\n",
       "    </tr>\n",
       "    <tr>\n",
       "      <th>4</th>\n",
       "      <td>61</td>\n",
       "      <td>F</td>\n",
       "      <td>LOW</td>\n",
       "      <td>HIGH</td>\n",
       "      <td>18.043</td>\n",
       "      <td>drugY</td>\n",
       "    </tr>\n",
       "  </tbody>\n",
       "</table>\n",
       "</div>"
      ],
      "text/plain": [
       "   Age Sex      BP Cholesterol  Na_to_K   Drug\n",
       "0   23   F    HIGH        HIGH   25.355  drugY\n",
       "1   47   M     LOW        HIGH   13.093  drugC\n",
       "2   47   M     LOW        HIGH   10.114  drugC\n",
       "3   28   F  NORMAL        HIGH    7.798  drugX\n",
       "4   61   F     LOW        HIGH   18.043  drugY"
      ]
     },
     "execution_count": 3,
     "metadata": {},
     "output_type": "execute_result"
    }
   ],
   "source": [
    "df.head()"
   ]
  },
  {
   "cell_type": "code",
   "execution_count": 22,
   "metadata": {},
   "outputs": [
    {
     "data": {
      "text/plain": [
       "array(['HIGH', 'NORMAL'], dtype=object)"
      ]
     },
     "execution_count": 22,
     "metadata": {},
     "output_type": "execute_result"
    }
   ],
   "source": [
    "df['Cholesterol'].unique()"
   ]
  },
  {
   "cell_type": "code",
   "execution_count": 8,
   "metadata": {},
   "outputs": [],
   "source": [
    "x=df[df.columns[:-1]].values"
   ]
  },
  {
   "cell_type": "code",
   "execution_count": 17,
   "metadata": {},
   "outputs": [
    {
     "data": {
      "text/plain": [
       "array([[23, 0, 'HIGH', 'HIGH', 25.355]], dtype=object)"
      ]
     },
     "execution_count": 17,
     "metadata": {},
     "output_type": "execute_result"
    }
   ],
   "source": [
    "x[:1]"
   ]
  },
  {
   "cell_type": "code",
   "execution_count": 13,
   "metadata": {},
   "outputs": [
    {
     "data": {
      "text/plain": [
       "array(['F', 'M', 'M', 'F', 'F', 'F', 'F', 'M', 'M', 'M', 'F', 'F', 'M',\n",
       "       'F', 'F', 'F', 'M', 'M', 'M', 'F', 'M', 'M', 'M', 'F', 'F', 'F',\n",
       "       'M', 'F', 'F', 'M', 'F', 'M', 'M', 'F', 'M', 'M', 'M', 'M', 'F',\n",
       "       'M', 'F', 'F', 'M', 'M', 'F', 'F', 'F', 'M', 'M', 'F', 'F', 'M',\n",
       "       'M', 'F', 'F', 'F', 'M', 'M', 'M', 'M', 'F', 'M', 'M', 'M', 'F',\n",
       "       'F', 'M', 'M', 'M', 'F', 'M', 'F', 'F', 'F', 'M', 'M', 'F', 'F',\n",
       "       'F', 'F', 'M', 'M', 'F', 'F', 'F', 'M', 'F', 'M', 'F', 'F', 'M',\n",
       "       'M', 'F', 'F', 'M', 'M', 'F', 'F', 'M', 'F', 'M', 'F', 'F', 'M',\n",
       "       'M', 'M', 'M', 'M', 'M', 'M', 'M', 'F', 'M', 'F', 'F', 'M', 'M',\n",
       "       'F', 'F', 'F', 'M', 'M', 'M', 'F', 'F', 'F', 'M', 'M', 'M', 'F',\n",
       "       'F', 'M', 'M', 'M', 'F', 'M', 'F', 'F', 'M', 'F', 'M', 'F', 'M',\n",
       "       'M', 'M', 'M', 'F', 'F', 'F', 'M', 'M', 'M', 'M', 'F', 'M', 'M',\n",
       "       'M', 'M', 'F', 'F', 'F', 'F', 'M', 'F', 'M', 'M', 'F', 'F', 'F',\n",
       "       'F', 'F', 'M', 'F', 'F', 'M', 'F', 'M', 'M', 'M', 'F', 'F', 'F',\n",
       "       'F', 'F', 'F', 'F', 'M', 'M', 'M', 'M', 'M', 'M', 'M', 'M', 'F',\n",
       "       'F', 'M', 'M', 'M', 'F'], dtype=object)"
      ]
     },
     "execution_count": 13,
     "metadata": {},
     "output_type": "execute_result"
    }
   ],
   "source": [
    "x[:,1]"
   ]
  },
  {
   "cell_type": "code",
   "execution_count": 5,
   "metadata": {},
   "outputs": [],
   "source": [
    "y=df['Drug'].values"
   ]
  },
  {
   "cell_type": "code",
   "execution_count": 14,
   "metadata": {},
   "outputs": [],
   "source": [
    "sex_encoder=preprocessing.LabelEncoder()\n",
    "sex_encoder.fit(['F','M'])\n",
    "x[:,1]=sex_encoder.transform(x[:,1])"
   ]
  },
  {
   "cell_type": "code",
   "execution_count": 15,
   "metadata": {},
   "outputs": [
    {
     "data": {
      "text/plain": [
       "array([0, 1, 1, 0, 0, 0, 0, 1, 1, 1, 0, 0, 1, 0, 0, 0, 1, 1, 1, 0, 1, 1,\n",
       "       1, 0, 0, 0, 1, 0, 0, 1, 0, 1, 1, 0, 1, 1, 1, 1, 0, 1, 0, 0, 1, 1,\n",
       "       0, 0, 0, 1, 1, 0, 0, 1, 1, 0, 0, 0, 1, 1, 1, 1, 0, 1, 1, 1, 0, 0,\n",
       "       1, 1, 1, 0, 1, 0, 0, 0, 1, 1, 0, 0, 0, 0, 1, 1, 0, 0, 0, 1, 0, 1,\n",
       "       0, 0, 1, 1, 0, 0, 1, 1, 0, 0, 1, 0, 1, 0, 0, 1, 1, 1, 1, 1, 1, 1,\n",
       "       1, 0, 1, 0, 0, 1, 1, 0, 0, 0, 1, 1, 1, 0, 0, 0, 1, 1, 1, 0, 0, 1,\n",
       "       1, 1, 0, 1, 0, 0, 1, 0, 1, 0, 1, 1, 1, 1, 0, 0, 0, 1, 1, 1, 1, 0,\n",
       "       1, 1, 1, 1, 0, 0, 0, 0, 1, 0, 1, 1, 0, 0, 0, 0, 0, 1, 0, 0, 1, 0,\n",
       "       1, 1, 1, 0, 0, 0, 0, 0, 0, 0, 1, 1, 1, 1, 1, 1, 1, 1, 0, 0, 1, 1,\n",
       "       1, 0], dtype=object)"
      ]
     },
     "execution_count": 15,
     "metadata": {},
     "output_type": "execute_result"
    }
   ],
   "source": [
    "x[:,1]"
   ]
  },
  {
   "cell_type": "code",
   "execution_count": 16,
   "metadata": {},
   "outputs": [],
   "source": [
    "#female = 0\n",
    "#male = 1"
   ]
  },
  {
   "cell_type": "code",
   "execution_count": 18,
   "metadata": {},
   "outputs": [],
   "source": [
    "bp_encoder=preprocessing.LabelEncoder()\n",
    "bp_encoder.fit(['HIGH','LOW','NORMAL'])\n",
    "x[:,2]=bp_encoder.transform(x[:,2])"
   ]
  },
  {
   "cell_type": "code",
   "execution_count": 19,
   "metadata": {},
   "outputs": [
    {
     "data": {
      "text/plain": [
       "array([0, 1, 1, 2, 1, 2, 2, 1, 2, 1, 1, 0, 1, 1, 2, 0, 1, 0, 1, 0, 1, 2,\n",
       "       1, 1, 1, 0, 0, 2, 1, 1, 2, 0, 1, 0, 2, 2, 0, 1, 2, 2, 2, 0, 2, 2,\n",
       "       2, 2, 0, 1, 2, 1, 0, 2, 1, 0, 0, 1, 0, 0, 2, 0, 1, 0, 1, 1, 0, 2,\n",
       "       0, 2, 2, 0, 0, 2, 2, 2, 0, 1, 0, 0, 0, 1, 0, 2, 1, 0, 1, 0, 2, 1,\n",
       "       0, 2, 2, 0, 0, 1, 1, 1, 1, 0, 0, 0, 0, 0, 1, 2, 0, 1, 2, 1, 0, 2,\n",
       "       0, 2, 1, 1, 2, 0, 2, 2, 0, 0, 2, 0, 2, 2, 0, 0, 0, 2, 1, 2, 2, 1,\n",
       "       1, 2, 0, 1, 0, 0, 0, 2, 0, 1, 0, 0, 0, 2, 1, 0, 1, 1, 0, 0, 2, 1,\n",
       "       1, 1, 0, 1, 1, 1, 2, 0, 2, 0, 0, 1, 1, 2, 1, 0, 2, 1, 2, 1, 0, 0,\n",
       "       0, 2, 2, 2, 0, 2, 1, 0, 0, 2, 0, 0, 0, 0, 0, 0, 1, 1, 0, 1, 1, 2,\n",
       "       2, 1], dtype=object)"
      ]
     },
     "execution_count": 19,
     "metadata": {},
     "output_type": "execute_result"
    }
   ],
   "source": [
    "x[:,2]"
   ]
  },
  {
   "cell_type": "code",
   "execution_count": 20,
   "metadata": {},
   "outputs": [],
   "source": [
    "# high_bp = 0\n",
    "#low_bp =1 \n",
    "#normal_bp = 2"
   ]
  },
  {
   "cell_type": "code",
   "execution_count": 23,
   "metadata": {},
   "outputs": [],
   "source": [
    "cholesterol_encoder=preprocessing.LabelEncoder()"
   ]
  },
  {
   "cell_type": "code",
   "execution_count": 24,
   "metadata": {},
   "outputs": [],
   "source": [
    "cholesterol_encoder.fit(['HIGH','NORMAL'])\n",
    "x[:,3]=cholesterol_encoder.transform(x[:,3])"
   ]
  },
  {
   "cell_type": "code",
   "execution_count": 25,
   "metadata": {},
   "outputs": [
    {
     "data": {
      "text/plain": [
       "array([0, 0, 0, 0, 0, 0, 0, 0, 0, 1, 0, 1, 0, 0, 0, 1, 1, 0, 0, 1, 1, 0,\n",
       "       1, 0, 0, 1, 0, 1, 1, 0, 1, 0, 1, 1, 0, 1, 1, 1, 1, 0, 0, 1, 1, 0,\n",
       "       1, 1, 0, 0, 0, 0, 0, 1, 1, 1, 1, 0, 1, 0, 1, 0, 1, 1, 1, 1, 0, 1,\n",
       "       0, 1, 0, 1, 0, 0, 0, 1, 1, 1, 0, 1, 0, 1, 0, 0, 0, 1, 0, 0, 0, 0,\n",
       "       1, 1, 0, 1, 0, 1, 0, 1, 0, 0, 1, 1, 1, 0, 0, 0, 1, 1, 0, 0, 1, 0,\n",
       "       0, 1, 1, 1, 1, 0, 1, 0, 1, 0, 0, 1, 0, 0, 1, 1, 0, 1, 1, 0, 0, 1,\n",
       "       1, 0, 0, 1, 0, 0, 1, 0, 1, 1, 1, 1, 0, 0, 1, 1, 1, 0, 1, 0, 1, 1,\n",
       "       1, 0, 1, 0, 0, 1, 0, 1, 1, 1, 1, 0, 0, 0, 1, 0, 0, 1, 1, 1, 1, 0,\n",
       "       1, 0, 0, 0, 1, 0, 1, 1, 0, 1, 0, 0, 1, 1, 0, 0, 0, 0, 0, 0, 0, 0,\n",
       "       1, 1], dtype=object)"
      ]
     },
     "execution_count": 25,
     "metadata": {},
     "output_type": "execute_result"
    }
   ],
   "source": [
    "x[:,3]"
   ]
  },
  {
   "cell_type": "code",
   "execution_count": 26,
   "metadata": {},
   "outputs": [],
   "source": [
    "#cholesterol_high = 0\n",
    "#cholesterol_normal = 1"
   ]
  },
  {
   "cell_type": "code",
   "execution_count": 27,
   "metadata": {},
   "outputs": [],
   "source": [
    "x_train,x_test,y_train,y_test=train_test_split(x,y,test_size=0.2,random_state=1)"
   ]
  },
  {
   "cell_type": "code",
   "execution_count": 28,
   "metadata": {},
   "outputs": [
    {
     "data": {
      "text/plain": [
       "array([[72, 1, 0, 1, 9.677],\n",
       "       [42, 1, 1, 0, 20.012999999999998],\n",
       "       [64, 1, 0, 1, 20.932],\n",
       "       [50, 0, 2, 0, 12.703],\n",
       "       [65, 1, 0, 1, 11.34],\n",
       "       [32, 0, 0, 1, 25.974],\n",
       "       [20, 0, 2, 1, 9.281],\n",
       "       [15, 1, 2, 0, 9.084],\n",
       "       [57, 0, 2, 1, 25.893],\n",
       "       [53, 0, 0, 1, 12.495],\n",
       "       [20, 1, 0, 1, 35.639],\n",
       "       [36, 0, 2, 0, 16.753],\n",
       "       [61, 0, 0, 0, 25.475],\n",
       "       [24, 0, 0, 1, 18.457],\n",
       "       [65, 0, 0, 1, 31.875999999999998],\n",
       "       [67, 0, 2, 0, 15.890999999999998],\n",
       "       [59, 0, 2, 0, 13.884],\n",
       "       [22, 1, 2, 0, 11.953],\n",
       "       [40, 0, 1, 1, 11.349],\n",
       "       [51, 1, 0, 1, 11.343],\n",
       "       [67, 1, 2, 1, 9.514],\n",
       "       [17, 1, 2, 1, 10.832],\n",
       "       [19, 0, 0, 0, 13.312999999999999],\n",
       "       [50, 1, 2, 1, 15.79],\n",
       "       [43, 1, 0, 0, 13.972000000000001],\n",
       "       [22, 0, 2, 0, 8.607000000000001],\n",
       "       [35, 1, 2, 1, 7.845],\n",
       "       [37, 1, 1, 1, 8.968],\n",
       "       [23, 1, 2, 0, 31.686],\n",
       "       [29, 1, 0, 0, 12.856],\n",
       "       [68, 0, 0, 1, 10.189],\n",
       "       [47, 0, 1, 0, 10.067],\n",
       "       [36, 0, 0, 1, 15.49],\n",
       "       [59, 0, 1, 0, 10.444],\n",
       "       [58, 0, 1, 0, 26.645],\n",
       "       [65, 0, 1, 1, 13.769],\n",
       "       [43, 1, 1, 0, 15.376],\n",
       "       [40, 0, 2, 0, 10.103],\n",
       "       [42, 0, 1, 1, 29.271],\n",
       "       [28, 1, 2, 0, 27.064],\n",
       "       [37, 1, 1, 1, 16.724],\n",
       "       [62, 1, 2, 0, 16.594],\n",
       "       [64, 1, 2, 0, 7.761],\n",
       "       [34, 1, 2, 0, 22.456],\n",
       "       [23, 1, 0, 0, 8.011000000000001],\n",
       "       [74, 0, 1, 0, 20.941999999999997],\n",
       "       [32, 0, 1, 0, 9.712],\n",
       "       [49, 1, 1, 1, 13.597999999999999],\n",
       "       [47, 1, 0, 0, 10.402999999999999],\n",
       "       [66, 0, 2, 1, 8.107000000000001],\n",
       "       [15, 0, 0, 1, 16.725],\n",
       "       [32, 1, 0, 1, 9.445],\n",
       "       [57, 0, 0, 1, 9.945],\n",
       "       [70, 1, 0, 0, 9.849],\n",
       "       [72, 0, 1, 1, 14.642000000000001],\n",
       "       [56, 1, 2, 0, 8.966000000000001],\n",
       "       [56, 0, 1, 0, 11.567],\n",
       "       [52, 1, 2, 0, 9.894],\n",
       "       [61, 0, 1, 1, 7.34],\n",
       "       [41, 0, 1, 1, 18.739],\n",
       "       [26, 1, 1, 1, 20.909000000000002],\n",
       "       [63, 1, 2, 0, 25.916999999999998],\n",
       "       [41, 1, 0, 1, 15.155999999999999],\n",
       "       [55, 1, 2, 1, 7.261],\n",
       "       [47, 1, 1, 0, 10.113999999999999],\n",
       "       [70, 1, 0, 0, 13.967],\n",
       "       [59, 1, 0, 0, 13.935],\n",
       "       [49, 1, 0, 1, 8.7],\n",
       "       [49, 0, 2, 0, 16.275],\n",
       "       [35, 1, 1, 1, 9.17],\n",
       "       [23, 0, 0, 0, 25.355],\n",
       "       [49, 1, 1, 0, 10.537],\n",
       "       [26, 0, 0, 1, 19.160999999999998],\n",
       "       [68, 0, 2, 1, 27.05],\n",
       "       [26, 0, 1, 0, 14.16],\n",
       "       [57, 0, 2, 0, 14.216],\n",
       "       [37, 0, 0, 1, 23.090999999999998],\n",
       "       [70, 0, 2, 0, 20.489],\n",
       "       [37, 0, 0, 0, 13.091],\n",
       "       [67, 1, 1, 1, 20.693],\n",
       "       [31, 1, 0, 1, 17.069000000000003],\n",
       "       [29, 0, 0, 0, 29.45],\n",
       "       [26, 0, 0, 1, 12.307],\n",
       "       [30, 0, 2, 0, 10.443],\n",
       "       [74, 1, 0, 1, 15.436],\n",
       "       [69, 1, 1, 0, 15.478],\n",
       "       [22, 0, 0, 1, 22.818],\n",
       "       [61, 1, 2, 0, 9.443],\n",
       "       [16, 1, 0, 1, 19.007],\n",
       "       [47, 0, 1, 0, 11.767000000000001],\n",
       "       [49, 1, 1, 1, 11.014000000000001],\n",
       "       [38, 0, 0, 1, 11.325999999999999],\n",
       "       [20, 0, 1, 1, 11.686],\n",
       "       [31, 1, 0, 1, 11.870999999999999],\n",
       "       [19, 0, 0, 1, 25.969],\n",
       "       [48, 0, 1, 0, 15.036],\n",
       "       [66, 1, 0, 0, 16.347],\n",
       "       [43, 1, 1, 1, 19.368],\n",
       "       [28, 0, 2, 0, 12.879000000000001],\n",
       "       [22, 1, 0, 1, 28.294],\n",
       "       [68, 1, 0, 0, 11.009],\n",
       "       [74, 1, 1, 1, 11.939],\n",
       "       [47, 0, 2, 1, 6.683],\n",
       "       [65, 1, 0, 1, 34.997],\n",
       "       [60, 0, 0, 0, 13.302999999999999],\n",
       "       [16, 0, 0, 1, 15.515999999999998],\n",
       "       [58, 0, 0, 1, 14.239],\n",
       "       [21, 0, 0, 1, 28.631999999999998],\n",
       "       [23, 1, 2, 0, 16.85],\n",
       "       [60, 1, 0, 0, 13.934000000000001],\n",
       "       [62, 1, 1, 1, 27.183000000000003],\n",
       "       [31, 1, 0, 0, 30.366],\n",
       "       [36, 0, 0, 0, 11.198],\n",
       "       [23, 1, 2, 0, 12.26],\n",
       "       [33, 0, 1, 0, 33.486],\n",
       "       [28, 0, 2, 0, 7.797999999999999],\n",
       "       [20, 0, 0, 0, 11.262],\n",
       "       [28, 0, 1, 0, 19.796],\n",
       "       [22, 1, 1, 0, 8.151],\n",
       "       [52, 1, 1, 1, 32.922],\n",
       "       [58, 1, 0, 0, 18.991],\n",
       "       [18, 0, 2, 1, 8.75],\n",
       "       [15, 1, 0, 1, 17.206],\n",
       "       [51, 1, 0, 0, 18.295],\n",
       "       [73, 0, 0, 0, 18.348],\n",
       "       [60, 1, 2, 0, 15.171],\n",
       "       [38, 0, 1, 1, 29.875],\n",
       "       [47, 1, 1, 1, 33.542],\n",
       "       [47, 1, 1, 0, 13.093],\n",
       "       [40, 1, 0, 0, 27.826],\n",
       "       [47, 1, 1, 1, 30.568],\n",
       "       [24, 1, 0, 1, 9.475],\n",
       "       [45, 1, 1, 1, 8.37],\n",
       "       [41, 1, 1, 0, 11.037],\n",
       "       [16, 1, 1, 0, 12.005999999999998],\n",
       "       [64, 0, 1, 1, 25.741],\n",
       "       [51, 0, 2, 0, 13.597000000000001],\n",
       "       [58, 0, 1, 0, 38.247],\n",
       "       [54, 1, 2, 0, 24.658],\n",
       "       [58, 0, 0, 0, 19.416],\n",
       "       [60, 1, 0, 1, 8.621],\n",
       "       [53, 1, 1, 0, 22.963],\n",
       "       [31, 1, 0, 1, 11.227],\n",
       "       [69, 0, 2, 0, 10.065],\n",
       "       [37, 0, 1, 1, 12.005999999999998],\n",
       "       [45, 0, 0, 0, 12.854000000000001],\n",
       "       [57, 1, 1, 1, 19.128],\n",
       "       [39, 1, 2, 0, 15.969000000000001],\n",
       "       [28, 0, 0, 1, 18.809],\n",
       "       [42, 0, 0, 0, 21.035999999999998],\n",
       "       [28, 0, 2, 0, 19.675],\n",
       "       [32, 0, 2, 0, 7.477],\n",
       "       [39, 1, 0, 0, 9.664],\n",
       "       [72, 1, 1, 0, 16.31],\n",
       "       [32, 0, 1, 1, 10.84],\n",
       "       [24, 1, 2, 0, 25.785999999999998],\n",
       "       [35, 0, 0, 0, 12.894],\n",
       "       [24, 0, 2, 0, 10.605],\n",
       "       [49, 1, 0, 1, 6.269],\n",
       "       [39, 1, 1, 1, 13.937999999999999]], dtype=object)"
      ]
     },
     "execution_count": 28,
     "metadata": {},
     "output_type": "execute_result"
    }
   ],
   "source": []
  },
  {
   "cell_type": "code",
   "execution_count": 30,
   "metadata": {},
   "outputs": [],
   "source": [
    "from sklearn.tree import DecisionTreeClassifier"
   ]
  },
  {
   "cell_type": "code",
   "execution_count": 31,
   "metadata": {},
   "outputs": [],
   "source": [
    "predictor=DecisionTreeClassifier(criterion='entropy',max_depth=4)"
   ]
  },
  {
   "cell_type": "code",
   "execution_count": 32,
   "metadata": {},
   "outputs": [
    {
     "data": {
      "text/plain": [
       "DecisionTreeClassifier(class_weight=None, criterion='entropy', max_depth=4,\n",
       "                       max_features=None, max_leaf_nodes=None,\n",
       "                       min_impurity_decrease=0.0, min_impurity_split=None,\n",
       "                       min_samples_leaf=1, min_samples_split=2,\n",
       "                       min_weight_fraction_leaf=0.0, presort=False,\n",
       "                       random_state=None, splitter='best')"
      ]
     },
     "execution_count": 32,
     "metadata": {},
     "output_type": "execute_result"
    }
   ],
   "source": [
    "predictor"
   ]
  },
  {
   "cell_type": "code",
   "execution_count": 33,
   "metadata": {},
   "outputs": [
    {
     "data": {
      "text/plain": [
       "DecisionTreeClassifier(class_weight=None, criterion='entropy', max_depth=4,\n",
       "                       max_features=None, max_leaf_nodes=None,\n",
       "                       min_impurity_decrease=0.0, min_impurity_split=None,\n",
       "                       min_samples_leaf=1, min_samples_split=2,\n",
       "                       min_weight_fraction_leaf=0.0, presort=False,\n",
       "                       random_state=None, splitter='best')"
      ]
     },
     "execution_count": 33,
     "metadata": {},
     "output_type": "execute_result"
    }
   ],
   "source": [
    "predictor.fit(x_train,y_train)"
   ]
  },
  {
   "cell_type": "code",
   "execution_count": 34,
   "metadata": {},
   "outputs": [],
   "source": [
    "y_pred=predictor.predict(x_test)"
   ]
  },
  {
   "cell_type": "code",
   "execution_count": 35,
   "metadata": {},
   "outputs": [
    {
     "data": {
      "text/plain": [
       "array(['drugX', 'drugY', 'drugX', 'drugC', 'drugY', 'drugX', 'drugX',\n",
       "       'drugY', 'drugY', 'drugY', 'drugX', 'drugC', 'drugY', 'drugY',\n",
       "       'drugA', 'drugA', 'drugX', 'drugX', 'drugB', 'drugY', 'drugX',\n",
       "       'drugX', 'drugX', 'drugY', 'drugB', 'drugX', 'drugX', 'drugY',\n",
       "       'drugC', 'drugX', 'drugC', 'drugY', 'drugY', 'drugY', 'drugA',\n",
       "       'drugY', 'drugA', 'drugY', 'drugY', 'drugY'], dtype=object)"
      ]
     },
     "execution_count": 35,
     "metadata": {},
     "output_type": "execute_result"
    }
   ],
   "source": [
    "y_pred"
   ]
  },
  {
   "cell_type": "code",
   "execution_count": 36,
   "metadata": {},
   "outputs": [
    {
     "data": {
      "text/plain": [
       "array(['drugX', 'drugY', 'drugX', 'drugC', 'drugY', 'drugX', 'drugX',\n",
       "       'drugY', 'drugY', 'drugY', 'drugX', 'drugC', 'drugY', 'drugY',\n",
       "       'drugA', 'drugA', 'drugX', 'drugX', 'drugB', 'drugY', 'drugX',\n",
       "       'drugX', 'drugX', 'drugY', 'drugB', 'drugX', 'drugX', 'drugY',\n",
       "       'drugC', 'drugX', 'drugC', 'drugY', 'drugY', 'drugY', 'drugA',\n",
       "       'drugY', 'drugA', 'drugY', 'drugY', 'drugY'], dtype=object)"
      ]
     },
     "execution_count": 36,
     "metadata": {},
     "output_type": "execute_result"
    }
   ],
   "source": [
    "y_test"
   ]
  },
  {
   "cell_type": "code",
   "execution_count": null,
   "metadata": {},
   "outputs": [],
   "source": []
  }
 ],
 "metadata": {
  "kernelspec": {
   "display_name": "Python 3",
   "language": "python",
   "name": "python3"
  },
  "language_info": {
   "codemirror_mode": {
    "name": "ipython",
    "version": 3
   },
   "file_extension": ".py",
   "mimetype": "text/x-python",
   "name": "python",
   "nbconvert_exporter": "python",
   "pygments_lexer": "ipython3",
   "version": "3.7.3"
  }
 },
 "nbformat": 4,
 "nbformat_minor": 2
}

{
 "cells": [
  {
   "cell_type": "markdown",
   "metadata": {},
   "source": [
    "##### For each cell in the data\n",
    "##### Calculate the eulidian distance from the query point and add the distances to an array\n",
    "##### Sort the array in ascending order\n",
    "##### Take mode of first k elements in the array, this will be your answer"
   ]
  },
  {
   "cell_type": "code",
   "execution_count": 46,
   "metadata": {},
   "outputs": [],
   "source": [
    "import math\n",
    "from statistics import mode"
   ]
  },
  {
   "cell_type": "code",
   "execution_count": 47,
   "metadata": {},
   "outputs": [],
   "source": [
    "clf_data = [\n",
    "    [22,15, 1],\n",
    "    [23,16, 1],\n",
    "    [21,17, 1],\n",
    "    [18,18, 1],\n",
    "    [19,19, 1],\n",
    "    [25,20, 0],\n",
    "    [27,21, 0],\n",
    "    [29,22, 0],\n",
    "    [31,23, 0],\n",
    "    [45,24, 0],\n",
    "]"
   ]
  },
  {
   "cell_type": "code",
   "execution_count": 49,
   "metadata": {},
   "outputs": [],
   "source": [
    "def eucidian_distance(point1,point2):\n",
    "    sum_of_squared_distances=0\n",
    "    for i in range(len(point1)):\n",
    "        sum_of_squared_distances+=math.pow(point1[i]-point2[i],2)\n",
    "    \n",
    "    return math.sqrt(sum_of_squared_distances)"
   ]
  },
  {
   "cell_type": "code",
   "execution_count": 50,
   "metadata": {},
   "outputs": [],
   "source": [
    "def knn(data,query,n_neighbors,distance_algo):\n",
    "    distance_array=[]\n",
    "\n",
    "    for index,element in enumerate(clf_data):\n",
    "        distance=distance_algo(element[:-1],query[:])\n",
    "        distance_array.append((distance,index))\n",
    "        \n",
    "    sorted_distance_array=sorted(distance_array)\n",
    "    \n",
    "    k_nearest_neighbors=sorted_distance_array[:n_neighbors]\n",
    "    \n",
    "    k_nearest_labels=[]\n",
    "    for i in range(k):\n",
    "        index=k_nearest_neighbors[i][-1]\n",
    "        k_nearest_labels.append(clf_data[index][-1])\n",
    "        \n",
    "    return mode(k_nearest_labels)"
   ]
  },
  {
   "cell_type": "code",
   "execution_count": 53,
   "metadata": {},
   "outputs": [
    {
     "data": {
      "text/plain": [
       "0"
      ]
     },
     "execution_count": 53,
     "metadata": {},
     "output_type": "execute_result"
    }
   ],
   "source": [
    "knn(clf_data,[31,23],3,distance_algo=eucidian_distance)"
   ]
  }
 ],
 "metadata": {
  "kernelspec": {
   "display_name": "Python 3",
   "language": "python",
   "name": "python3"
  },
  "language_info": {
   "codemirror_mode": {
    "name": "ipython",
    "version": 3
   },
   "file_extension": ".py",
   "mimetype": "text/x-python",
   "name": "python",
   "nbconvert_exporter": "python",
   "pygments_lexer": "ipython3",
   "version": "3.7.3"
  }
 },
 "nbformat": 4,
 "nbformat_minor": 2
}
